{
 "cells": [
  {
   "cell_type": "code",
   "execution_count": 49,
   "metadata": {},
   "outputs": [
    {
     "name": "stdout",
     "output_type": "stream",
     "text": [
      "           date       win_team       lose_team win_score lose_score\n",
      "0     11/6/2018         Kansas  Michigan State        92         87\n",
      "1     11/6/2018           Duke        Kentucky       118         84\n",
      "2     11/6/2018        Gonzaga     Idaho State       120         79\n",
      "3     11/6/2018       Virginia          Towson        73         42\n",
      "4     11/6/2018      Tennessee    Lenoir-Rhyne        86         41\n",
      "...         ...            ...             ...       ...        ...\n",
      "6044   4/4/2019          Texas        Lipscomb        81         66\n",
      "6045   4/5/2019  South Florida          DePaul        77         65\n",
      "6046   4/6/2019       Virginia          Auburn        63         62\n",
      "6047   4/6/2019     Texas Tech  Michigan State        61         51\n",
      "6048   4/8/2019       Virginia      Texas Tech        85         77\n",
      "\n",
      "[6049 rows x 5 columns]\n"
     ]
    }
   ],
   "source": [
    "from bs4 import BeautifulSoup\n",
    "import requests\n",
    "import html5lib\n",
    "import pandas as pd\n",
    "import time\n",
    "\n",
    "df = pd.DataFrame(columns=[\"date\", \"win_team\", \"lose_team\", \"win_score\", \"lose_score\"])\n",
    "\n",
    "url_format = \"https://www.sports-reference.com/cbb/boxscores/index.cgi?month={}&day={}&year={}\"\n",
    "for y in [2018, 2019]:\n",
    "    months = []\n",
    "    if y == 2018:\n",
    "        months = [11, 12]\n",
    "    else:\n",
    "        months = [1, 2, 3, 4]\n",
    "    \n",
    "    for m in months:\n",
    "        days = range(1,32)\n",
    "        for d in days:\n",
    "            url = url_format.format(str(m),str(d),str(y))\n",
    "            r = requests.get(url)\n",
    "\n",
    "            root = BeautifulSoup(r.content)\n",
    "            root.prettify()\n",
    "            t = root.find(\"div\", class_=\"game_summaries\")\n",
    "            #date = t.find(\"h2\").getText()\n",
    "            date = str(m) + \"/\" + str(d) + \"/\" + str(y)\n",
    "    \n",
    "            for i in root.find_all(\"div\", class_=\"game_summary nohover\"):\n",
    "                loser = i.find(\"tr\", class_=\"loser\")\n",
    "                lose_team = loser.find(\"a\").getText()\n",
    "                lose_score = loser.find(\"td\", class_=\"right\").getText()\n",
    "    \n",
    "                winner = i.find(\"tr\", class_=\"winner\")\n",
    "                win_team = winner.find(\"a\").getText()\n",
    "                win_score = winner.find(\"td\", class_=\"right\").getText()\n",
    "                \n",
    "                df = df.append({\"date\":date, \"win_team\":win_team, \"lose_team\":lose_team, \"win_score\":win_score, \"lose_score\":lose_score}, ignore_index=True)\n",
    "            \n",
    "            time.sleep(0.5)\n",
    "\n",
    "print(df)"
   ]
  },
  {
   "cell_type": "code",
   "execution_count": null,
   "metadata": {},
   "outputs": [],
   "source": []
  }
 ],
 "metadata": {
  "kernelspec": {
   "display_name": "Python 3",
   "language": "python",
   "name": "python3"
  },
  "language_info": {
   "codemirror_mode": {
    "name": "ipython",
    "version": 3
   },
   "file_extension": ".py",
   "mimetype": "text/x-python",
   "name": "python",
   "nbconvert_exporter": "python",
   "pygments_lexer": "ipython3",
   "version": "3.7.3"
  }
 },
 "nbformat": 4,
 "nbformat_minor": 2
}
