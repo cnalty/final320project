{
 "cells": [
  {
   "cell_type": "markdown",
   "metadata": {},
   "source": [
    "# Predicting Wins in NCAA Men's Basketball\n",
    "<center> Derek Lore, Christopher Nalty, Micheal Stephanus </center>"
   ]
  },
  {
   "cell_type": "markdown",
   "metadata": {
    "collapsed": true
   },
   "source": [
    "## <center> Introduction </center>\n",
    "\n",
    "We're Playing Basketballllllllllll, we're playing basketballllll.\n",
    "\n"
   ]
  },
  {
   "cell_type": "markdown",
   "metadata": {},
   "source": [
    "## <center> Gathering the Data </center>\n",
    "\n",
    "The first thing we need to do is to acquire all of the data from the NCAA website. The data we're goint to be using can be located at [http://web1.ncaa.org/stats/StatsSrv/rankings?sportCode=MBB]. This page requires us to do some clicking, and doesn't have all of the stats centralized in one csv. So to automate this we will use selenium, instead of doing ~12000 clicks ourselves. To do this we used the chrome based webdriver in selenium, to run this script you will need the [ChromeDriver](https://chromedriver.chromium.org/downloads). Once we have this installed we can now the following script to download every team stat available from every date of the 2018-2019 Men's Basketball season."
   ]
  },
  {
   "cell_type": "code",
   "execution_count": null,
   "metadata": {},
   "outputs": [],
   "source": [
    "from selenium import webdriver\n",
    "\n",
    "driver = webdriver.Chrome(\"F:/Downloads/chromedriver_win32/chromedriver.exe\") # change this to where ever your driver is\n",
    "\n",
    "# select division one button, since that's all we care about, will stay persistent\n",
    "driver.get(\"http://web1.ncaa.org/stats/StatsSrv/rankings?sportCode=MBB\")\n",
    "div1 = driver.find_element_by_xpath(\"/html/body/form/table[3]/tbody/tr[2]/td/select/option[2]\").click()\n",
    "week_base = \"/html/body/form/table[3]/tbody/tr[5]/td/select/option[{}]\" # base string for selecting week\n",
    "stats_base = \"/html/body/form/table[3]/tbody/tr[10]/td/select/option[{}]\" # base for stats\n",
    "\n",
    "for i in range(2, 142):\n",
    "    driver.find_element_by_xpath(week_base.format(i)).click()\n",
    "    for j in range(3, 33):\n",
    "        driver.find_element_by_xpath(stats_base.format(j)).click()\n",
    "        driver.find_element_by_xpath(\"/html/body/form/table[3]/tbody/tr[13]/td/input[4]\").click()"
   ]
  }
 ],
 "metadata": {
  "kernelspec": {
   "display_name": "Python 3",
   "language": "python",
   "name": "python3"
  },
  "language_info": {
   "codemirror_mode": {
    "name": "ipython",
    "version": 3
   },
   "file_extension": ".py",
   "mimetype": "text/x-python",
   "name": "python",
   "nbconvert_exporter": "python",
   "pygments_lexer": "ipython3",
   "version": "3.7.3"
  }
 },
 "nbformat": 4,
 "nbformat_minor": 1
}
